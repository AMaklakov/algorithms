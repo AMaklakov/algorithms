{
 "cells": [
  {
   "cell_type": "code",
   "execution_count": 82,
   "metadata": {},
   "outputs": [],
   "source": [
    "class Node:\n",
    "    def __init__(self, value):\n",
    "        self.left = None\n",
    "        self.right = None\n",
    "        self.value = value\n",
    "\n",
    "\n",
    "class Tree:\n",
    "    def __init__(self):\n",
    "        self.node = None\n",
    "\n",
    "    def insert(self, value):\n",
    "        if self.node == None:\n",
    "            self.node = Node(value)\n",
    "            \n",
    "            # Made left and right to have 'insert' function\n",
    "            self.node.left = Tree() \n",
    "            self.node.right = Tree()\n",
    "            \n",
    "        elif value < self.node.value:\n",
    "            self.node.left.insert(value)\n",
    "            \n",
    "        elif value > self.node.value:\n",
    "            self.node.right.insert(value)\n",
    "\n",
    "    def display(self, level=0, pref=''):\n",
    "        \n",
    "        if(self.node != None): \n",
    "            print (\"-\" * level * 2 , pref, self.node.value )  \n",
    "            \n",
    "            if self.node.left != None: \n",
    "                self.node.left.display(level + 1, '<')\n",
    "                \n",
    "            if self.node.left != None:\n",
    "                self.node.right.display(level + 1, '>') \n",
    "    \n",
    "    def rotateToRight(self):\n",
    "        tree = self.node\n",
    "        leftTree = self.node.left.node\n",
    "        rightTree = leftTree.right.node\n",
    "        \n",
    "        self.node = leftTree\n",
    "        leftTree.right.node = tree\n",
    "        tree.left.node = rightTree\n",
    "        \n",
    "    \n",
    "    def rotateToLeft(self):\n",
    "        tree = self.node\n",
    "        rightNode = self.node.right.node\n",
    "        leftNode = rightNode.left.node\n",
    "        \n",
    "        self.node = rightNode\n",
    "        rightNode.left.node = tree\n",
    "        tree.right.node = leftNode\n",
    "        "
   ]
  },
  {
   "cell_type": "code",
   "execution_count": 83,
   "metadata": {},
   "outputs": [
    {
     "name": "stdout",
     "output_type": "stream",
     "text": [
      "  2\n",
      "-- < 1\n",
      "---- < 0\n",
      "-- > 3\n",
      "---- > 4\n",
      "------ > 8\n",
      "-------- < 7\n"
     ]
    }
   ],
   "source": [
    "arr = [2, 1, 3, 4, 0, 8, 7]\n",
    "a = Tree()\n",
    "\n",
    "for i in range(len(arr)):\n",
    "    a.insert(arr[i])\n",
    "\n",
    "a.display()"
   ]
  },
  {
   "cell_type": "code",
   "execution_count": 84,
   "metadata": {},
   "outputs": [
    {
     "name": "stdout",
     "output_type": "stream",
     "text": [
      "  1\n",
      "-- < 0\n",
      "-- > 2\n",
      "---- > 3\n",
      "------ > 4\n",
      "-------- > 8\n",
      "---------- < 7\n"
     ]
    }
   ],
   "source": [
    "a.rotateToRight()\n",
    "\n",
    "a.display()"
   ]
  }
 ],
 "metadata": {
  "kernelspec": {
   "display_name": "Python 3",
   "language": "python",
   "name": "python3"
  },
  "language_info": {
   "codemirror_mode": {
    "name": "ipython",
    "version": 3
   },
   "file_extension": ".py",
   "mimetype": "text/x-python",
   "name": "python",
   "nbconvert_exporter": "python",
   "pygments_lexer": "ipython3",
   "version": "3.7.0"
  }
 },
 "nbformat": 4,
 "nbformat_minor": 2
}
