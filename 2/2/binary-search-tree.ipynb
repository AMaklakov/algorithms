{
 "cells": [
  {
   "cell_type": "code",
   "execution_count": 112,
   "metadata": {},
   "outputs": [],
   "source": [
    "class Node:\n",
    "    def __init__(self, value):\n",
    "        self.left = None\n",
    "        self.right = None\n",
    "        self.value = value\n",
    "\n",
    "class Tree:\n",
    "    def __init__(self):\n",
    "        self.node = None\n",
    "\n",
    "    def insert(self, value):\n",
    "        if self.node == None:\n",
    "            self.node = Node(value)\n",
    "            \n",
    "            # Make left and right to have 'insert' function\n",
    "            self.node.left = Tree() \n",
    "            self.node.right = Tree()\n",
    "            \n",
    "        elif value < self.node.value:\n",
    "            self.node.left.insert(value)\n",
    "            \n",
    "        elif value > self.node.value:\n",
    "            self.node.right.insert(value)\n",
    "\n",
    "    def display(self, level=0, pref=''):\n",
    "        if(self.node != None): \n",
    "            print (\"-\" * level * 2 , pref, self.node.value )  \n",
    "            \n",
    "            if self.node.left != None: \n",
    "                self.node.left.display(level + 1, '<')\n",
    "                \n",
    "            if self.node.left != None:\n",
    "                self.node.right.display(level + 1, '>')    \n",
    "                \n",
    "    def findValue(self, value):\n",
    "        if self.node != None:\n",
    "            \n",
    "            if self.node.value == value :\n",
    "                return True\n",
    "\n",
    "            elif value < self.node.value:\n",
    "                return self.node.left.findValue(value)\n",
    "\n",
    "            elif value > self.node.value:\n",
    "                return self.node.right.findValue(value)\n",
    "\n",
    "            else:\n",
    "                return False\n",
    "            \n",
    "        else:\n",
    "            return False\n",
    "        \n",
    "    def rotateToRight(self):\n",
    "        x = self.node\n",
    "        y = self.node.left.node\n",
    "        temp = y.right.node\n",
    "        \n",
    "        self.node = y\n",
    "        y.right.node = x\n",
    "        x.left.node = temp\n",
    "    \n",
    "    def rotateToLeft(self):\n",
    "        x = self.node\n",
    "        y = self.node.right.node\n",
    "        temp = y.left.node\n",
    "        \n",
    "        self.node = y\n",
    "        y.left.node = x\n",
    "        x.right.node = temp\n",
    "        \n",
    "    def insertInRoot(self, value):\n",
    "        if self.node == None:\n",
    "            self.node = Node(value)\n",
    "            \n",
    "            self.node.left = Tree() \n",
    "            self.node.right = Tree()\n",
    "            \n",
    "        elif value < self.node.value:\n",
    "            self.node.left.insertInRoot(value)\n",
    "            self.rotateToRight()\n",
    "            \n",
    "        elif value > self.node.value:\n",
    "            self.node.right.insertInRoot(value)\n",
    "            self.rotateToLeft()"
   ]
  },
  {
   "cell_type": "code",
   "execution_count": 113,
   "metadata": {},
   "outputs": [
    {
     "name": "stdout",
     "output_type": "stream",
     "text": [
      "  16\n",
      "-- < 6\n",
      "---- < 3\n",
      "------ < 2\n",
      "------ > 4\n",
      "---- > 7\n",
      "------ > 13\n",
      "-------- < 9\n",
      "-------- > 15\n",
      "-- > 18\n",
      "---- < 17\n",
      "---- > 20\n"
     ]
    }
   ],
   "source": [
    "# Like at lecture\n",
    "arr = [16, 6, 7, 18, 17, 20, 13, 3, 2, 4, 9, 15]\n",
    "a = Tree()\n",
    "\n",
    "for i in range(len(arr)):\n",
    "    a.insert(arr[i])\n",
    "\n",
    "a.display()"
   ]
  },
  {
   "cell_type": "code",
   "execution_count": 114,
   "metadata": {},
   "outputs": [
    {
     "name": "stdout",
     "output_type": "stream",
     "text": [
      "True\n",
      "True\n",
      "True\n",
      "True\n",
      "True\n",
      "True\n",
      "True\n",
      "True\n",
      "True\n",
      "True\n",
      "True\n",
      "True\n",
      "False\n"
     ]
    }
   ],
   "source": [
    "# Find values\n",
    "for i in range(len(arr)):\n",
    "    s = a.findValue(arr[i])\n",
    "    print(s)\n",
    "    \n",
    "print(a.findValue(-1))"
   ]
  },
  {
   "cell_type": "code",
   "execution_count": 115,
   "metadata": {},
   "outputs": [
    {
     "name": "stdout",
     "output_type": "stream",
     "text": [
      "  8\n",
      "-- < 6\n",
      "---- < 3\n",
      "------ < 2\n",
      "------ > 4\n",
      "---- > 7\n",
      "-- > 16\n",
      "---- < 13\n",
      "------ < 9\n",
      "------ > 15\n",
      "---- > 18\n",
      "------ < 17\n",
      "------ > 20\n"
     ]
    }
   ],
   "source": [
    "# Insert in root\n",
    "a.insertInRoot(8)\n",
    "\n",
    "a.display()"
   ]
  }
 ],
 "metadata": {
  "kernelspec": {
   "display_name": "Python 3",
   "language": "python",
   "name": "python3"
  },
  "language_info": {
   "codemirror_mode": {
    "name": "ipython",
    "version": 3
   },
   "file_extension": ".py",
   "mimetype": "text/x-python",
   "name": "python",
   "nbconvert_exporter": "python",
   "pygments_lexer": "ipython3",
   "version": "3.7.0"
  }
 },
 "nbformat": 4,
 "nbformat_minor": 2
}
