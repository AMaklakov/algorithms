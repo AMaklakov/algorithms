{
 "cells": [
  {
   "cell_type": "code",
   "execution_count": 40,
   "metadata": {},
   "outputs": [],
   "source": [
    "import numpy as np\n",
    "import random\n",
    "import time\n",
    "import math\n",
    "\n",
    "FILES_TOTAL = 50\n",
    "ARRAY_LENGTH = 1000\n",
    "ARRAY_MAX_ITEM = 1000\n",
    "\n",
    "# Constants\n",
    "P = 919                  # My prime numbr\n",
    "A = (math.sqrt(5)-1)/2   # What I want || Knut's constant\n",
    "M = ARRAY_MAX_ITEM       # Array length"
   ]
  },
  {
   "cell_type": "code",
   "execution_count": 41,
   "metadata": {},
   "outputs": [],
   "source": [
    "def writeInFiles():\n",
    "    for file in range(FILES_TOTAL):\n",
    "        f=open(\"arrays-{}.txt\".format(file), \"w+\")\n",
    "    \n",
    "        for i in range(ARRAY_LENGTH):\n",
    "            f.write(\"{}\".format((int)(random.random() * (ARRAY_MAX_ITEM+1))) + \"\\n\")\n",
    "        f.close()\n",
    "\n",
    "def readFile(index):\n",
    "    f=open(\"arrays-{}.txt\".format(index), \"r\")\n",
    "    arr = []\n",
    "    \n",
    "    for line in f:\n",
    "        arr.append(int(line))\n",
    "    \n",
    "    return arr"
   ]
  },
  {
   "cell_type": "code",
   "execution_count": 42,
   "metadata": {},
   "outputs": [],
   "source": [
    "# Make files\n",
    "# writeInFiles()"
   ]
  },
  {
   "cell_type": "code",
   "execution_count": 114,
   "metadata": {},
   "outputs": [],
   "source": [
    "# Linked list\n",
    "class Node:\n",
    "    def __init__(self, value):\n",
    "        self.value = value\n",
    "        self.next = None\n",
    "        self.last = self\n",
    "        self.length = 0\n",
    "    \n",
    "    def push(self, value):\n",
    "        if self.value == None:\n",
    "            self.value = value\n",
    "            self.length = 1\n",
    "        else:\n",
    "            node = self\n",
    "            \n",
    "            while node.value != value and node != self.last:\n",
    "                node = node.next\n",
    "            \n",
    "            if node.value == value:\n",
    "                return\n",
    "            \n",
    "            node = self.last\n",
    "            newNode = Node(value)\n",
    "            node.next = newNode\n",
    "            self.last = newNode # Made a link to the last element of this chain\n",
    "            self.length += 1    # Calc length"
   ]
  },
  {
   "cell_type": "code",
   "execution_count": 115,
   "metadata": {},
   "outputs": [],
   "source": [
    "def hashFunction(value):\n",
    "    return math.floor(((value % P) * A)%1 * M)\n",
    "\n",
    "def insert(hashTable, value):\n",
    "    hashTable[hashFunction(value)].push(value)\n",
    "    \n",
    "def findValue(hashTable, value):\n",
    "    node = hashTable[hashFunction(value)]\n",
    "    \n",
    "    if node.value == None:\n",
    "        return None\n",
    "    \n",
    "    while node.value != value:\n",
    "        node = node.next\n",
    "        \n",
    "        if node == None:\n",
    "            return None\n",
    "    \n",
    "    return hashFunction(value)\n",
    "    \n",
    "def printHashTable(hashTable, lineLength = 4):\n",
    "    for i in range(len(hashTable)):\n",
    "        node = hashTable[i]\n",
    "        length = 0\n",
    "        \n",
    "        print(\"\\n{}: \".format(i), end=\"\")\n",
    "        while(node != None):\n",
    "            if node.value == None:\n",
    "                print(node.value, end=\"\")\n",
    "                break\n",
    "                \n",
    "            print(node.value, end=\" -> \")\n",
    "            node = node.next\n",
    "            \n",
    "            length += 1            \n",
    "            if length > lineLength:\n",
    "                print(\"...\", end=\"\")\n",
    "                break\n",
    "\n",
    "def searchMaxLength(hashTable):\n",
    "    maxLength = -1\n",
    "    \n",
    "    for i in range(len(hashTable)):\n",
    "        if hashTable[i].length > maxLength:\n",
    "            maxLength = hashTable[i].length\n",
    "    \n",
    "    return maxLength"
   ]
  },
  {
   "cell_type": "code",
   "execution_count": 116,
   "metadata": {},
   "outputs": [
    {
     "name": "stdout",
     "output_type": "stream",
     "text": [
      "5\n",
      "10\n",
      "15\n",
      "18\n",
      "100\n"
     ]
    }
   ],
   "source": [
    "# Checking my chain\n",
    "\n",
    "node = Node(5)\n",
    "print(node.last.value)\n",
    "node.push(10)\n",
    "print(node.last.value)\n",
    "node.push(15)\n",
    "print(node.last.value)\n",
    "node.push(18)\n",
    "print(node.last.value)\n",
    "node.push(100)\n",
    "print(node.last.value)"
   ]
  },
  {
   "cell_type": "code",
   "execution_count": 117,
   "metadata": {},
   "outputs": [
    {
     "name": "stdout",
     "output_type": "stream",
     "text": [
      "Max length = 3 for A = 0.6180339887498949\n",
      "Max length = 3 for A = 0.7071067811865475\n",
      "Max length = 3 for A = 0.5773502691896258\n",
      "Max length = 5 for A = 0.5129891760425771\n",
      "Max length = 343 for A = 0.5\n"
     ]
    }
   ],
   "source": [
    "# LOGIC OF TASK 1\n",
    "\n",
    "arrayA = [(math.sqrt(5)-1)/2, 1/math.sqrt(2), 1/math.sqrt(3), 1/math.sqrt(3.8), 1/math.sqrt(4)]\n",
    "\n",
    "for k in range(len(arrayA)):\n",
    "    A = arrayA[k]\n",
    "    \n",
    "    maxLength = -1\n",
    "    \n",
    "    for i in range(FILES_TOTAL):\n",
    "        # define hash table\n",
    "        hashTable = [Node(None) for _ in range(M)]\n",
    "\n",
    "        array = readFile(i)\n",
    "\n",
    "        for j in range(len(array)):\n",
    "            insert(hashTable, array[j])\n",
    "            \n",
    "#         printHashTable(hashTable);\n",
    "        \n",
    "        if searchMaxLength(hashTable) > maxLength:\n",
    "            maxLength = searchMaxLength(hashTable)\n",
    "        \n",
    "    print(\"Max length =\", maxLength, \"for A =\", A)\n",
    "\n",
    "A = (math.sqrt(5)-1)/2"
   ]
  },
  {
   "cell_type": "code",
   "execution_count": 118,
   "metadata": {},
   "outputs": [
    {
     "name": "stdout",
     "output_type": "stream",
     "text": [
      "854\n"
     ]
    }
   ],
   "source": [
    "# find \n",
    "\n",
    "hashTable = [Node(None) for _ in range(M)]\n",
    "\n",
    "array = readFile(0)\n",
    "\n",
    "for j in range(len(array)):\n",
    "    insert(hashTable, array[j])\n",
    "\n",
    "index = findValue(hashTable, 3)\n",
    "\n",
    "print(index)"
   ]
  },
  {
   "cell_type": "code",
   "execution_count": 119,
   "metadata": {},
   "outputs": [],
   "source": [
    "# --------------------------------------------------------\n",
    "A = (math.sqrt(5)-1)/2 \n",
    "\n",
    "def hashFunction(value):\n",
    "    return math.floor(((value % P) * A)%1 * M)\n",
    "\n",
    "def insertAddress(hashTable, value):\n",
    "    key = hashFunction(value)\n",
    "    i = 1\n",
    "    \n",
    "    if hashTable[key] == None:\n",
    "        hashTable[key] = value\n",
    "    elif hashTable[key] != value:\n",
    "        newKey = (key + i) % M\n",
    "        \n",
    "        while hashTable[newKey] != None and hashTable[newKey] != value: \n",
    "            newKey = (key + i*i) % M\n",
    "            i += 1\n",
    "        \n",
    "        if hashTable[newKey] != value:\n",
    "            hashTable[newKey] = value\n",
    "        \n",
    "    return i-1\n",
    "    \n",
    "def findValue(hashTable, value):\n",
    "    key = hashFunction(value)\n",
    "    i = 1\n",
    "    \n",
    "    if hashTable[key] == None:\n",
    "        return None\n",
    "    elif hashTable[key] != value:\n",
    "        newKey = (key + i) % M\n",
    "        \n",
    "        while hashTable[newKey] != None and hashTable[newKey] != value: \n",
    "            newKey = (key + i*i) % M\n",
    "            i += 1\n",
    "        \n",
    "        if hashTable[newKey] == value:\n",
    "            return newKey\n",
    "        else:\n",
    "            return None\n",
    "    else:\n",
    "        return key\n",
    "\n",
    "def printHashTable(hashTable):\n",
    "    for i in range(len(hashTable)):\n",
    "        print(i, \":\", hashTable[i])"
   ]
  },
  {
   "cell_type": "code",
   "execution_count": 120,
   "metadata": {},
   "outputs": [
    {
     "name": "stdout",
     "output_type": "stream",
     "text": [
      "13\n"
     ]
    }
   ],
   "source": [
    "maxMaxI = -1\n",
    "\n",
    "for i in range(FILES_TOTAL):\n",
    "    hashTable = [None] * M\n",
    "\n",
    "    array = readFile(i)\n",
    "    maxI = -1\n",
    "\n",
    "    for j in range(len(array)):\n",
    "        curI = insertAddress(hashTable, array[j])\n",
    "        \n",
    "        if curI > maxI:\n",
    "            maxI = curI\n",
    "        \n",
    "        if maxI > maxMaxI:\n",
    "            maxMaxI = maxI\n",
    "    \n",
    "print(maxMaxI)\n",
    "\n",
    "#         if searchMaxLength(hashTable) > maxLength:\n",
    "#             maxLength = searchMaxLength(hashTable)\n",
    "\n",
    "#     printHashTable(hashTable)\n",
    "\n"
   ]
  },
  {
   "cell_type": "code",
   "execution_count": 121,
   "metadata": {},
   "outputs": [
    {
     "name": "stdout",
     "output_type": "stream",
     "text": [
      "708\n"
     ]
    }
   ],
   "source": [
    "hashTable = [None] * M\n",
    "\n",
    "array = readFile(0)\n",
    "\n",
    "for j in range(len(array)):\n",
    "    insertAddress(hashTable, array[j])\n",
    "    \n",
    "print(findValue(hashTable, 6))"
   ]
  },
  {
   "cell_type": "code",
   "execution_count": null,
   "metadata": {},
   "outputs": [],
   "source": []
  }
 ],
 "metadata": {
  "kernelspec": {
   "display_name": "Python 3",
   "language": "python",
   "name": "python3"
  },
  "language_info": {
   "codemirror_mode": {
    "name": "ipython",
    "version": 3
   },
   "file_extension": ".py",
   "mimetype": "text/x-python",
   "name": "python",
   "nbconvert_exporter": "python",
   "pygments_lexer": "ipython3",
   "version": "3.7.0"
  }
 },
 "nbformat": 4,
 "nbformat_minor": 2
}
